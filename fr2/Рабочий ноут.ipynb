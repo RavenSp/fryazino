{
 "cells": [
  {
   "cell_type": "code",
   "execution_count": 3,
   "metadata": {},
   "outputs": [
    {
     "name": "stdout",
     "output_type": "stream",
     "text": [
      "205,0,820,460\n",
      "0,0,820,460\n",
      "0,0,820,461\n"
     ]
    }
   ],
   "source": [
    "from news.models import News\n",
    "\n",
    "a = News.objects.all()\n",
    "\n",
    "print(a[2].list_img_cropping)\n",
    "print(a[2].top_news_cropping)\n",
    "print(a[2].min_free_cropping)"
   ]
  },
  {
   "cell_type": "code",
   "execution_count": 1,
   "metadata": {},
   "outputs": [],
   "source": [
    "import os\n",
    "os.environ[\"DJANGO_ALLOW_ASYNC_UNSAFE\"] = \"true\""
   ]
  },
  {
   "cell_type": "code",
   "execution_count": 4,
   "metadata": {},
   "outputs": [
    {
     "name": "stdout",
     "output_type": "stream",
     "text": [
      "None\n"
     ]
    }
   ],
   "source": [
    "from menu.models import Menu\n",
    "b = Menu.objects.all()\n",
    "\n",
    "print(b[1].parent)"
   ]
  },
  {
   "cell_type": "code",
   "execution_count": 6,
   "metadata": {},
   "outputs": [
    {
     "name": "stdout",
     "output_type": "stream",
     "text": [
      "Символика\n",
      "К сведению\n",
      "Социально-ориентированные некоммерческие организации\n",
      "Социально-экономическое развитие\n",
      "Управление и комитеты\n",
      "Малое предпринимательство\n",
      "Общественные организации\n",
      "Общественная палата\n",
      "Ветеранское движение\n",
      "Уполномоченный по правам человека\n",
      "Генеральный план\n",
      "Города-Побратимы\n",
      "Жилищно-коммунальное хозяйство\n",
      "Афиша\n",
      "Фотоархив\n"
     ]
    }
   ],
   "source": [
    "from menu.templatetags.menu_mainMenu import main_menu\n",
    "\n",
    "men = main_menu()\n",
    "\n",
    "me = men['menu'][1]\n",
    "\n",
    "for  ch in me.get_children():\n",
    "    \n",
    "    print (ch.title)\n",
    "\n"
   ]
  },
  {
   "cell_type": "code",
   "execution_count": 18,
   "metadata": {},
   "outputs": [
    {
     "data": {
      "text/plain": [
       "<Options for News>"
      ]
     },
     "execution_count": 18,
     "metadata": {},
     "output_type": "execute_result"
    }
   ],
   "source": [
    "from news.models import News\n",
    "a = News.objects.filter(publish=True)\n",
    "a[0]._meta"
   ]
  },
  {
   "cell_type": "code",
   "execution_count": null,
   "metadata": {},
   "outputs": [],
   "source": []
  },
  {
   "cell_type": "code",
   "execution_count": null,
   "metadata": {},
   "outputs": [],
   "source": []
  }
 ],
 "metadata": {
  "kernelspec": {
   "display_name": "Django Shell-Plus",
   "language": "python",
   "name": "django_extensions"
  },
  "language_info": {
   "codemirror_mode": {
    "name": "ipython",
    "version": 3
   },
   "file_extension": ".py",
   "mimetype": "text/x-python",
   "name": "python",
   "nbconvert_exporter": "python",
   "pygments_lexer": "ipython3",
   "version": "3.6.9"
  }
 },
 "nbformat": 4,
 "nbformat_minor": 4
}
